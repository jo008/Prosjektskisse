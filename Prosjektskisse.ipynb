{
 "cells": [
  {
   "cell_type": "markdown",
   "id": "e8b1967a-9abc-4e2a-b419-d40009803fb8",
   "metadata": {},
   "source": [
    "# Prosjektskisse"
   ]
  },
  {
   "cell_type": "code",
   "execution_count": null,
   "id": "7a02a165-f818-40e3-ab16-85d78a1d70f9",
   "metadata": {},
   "outputs": [],
   "source": [
    "I min prosjektskisse så blir jeg å lage en funksjon som tar betingelsene for et annuitetslån med gebyrer som argumenter, og plotter renter og avdrag over tid. Jeg har valgt dette temaet fordi jeg føler det er nyttig kunnskap for framtiden. Lån blir man å møte uansett i livet. Jeg liker også å jobbe med tall, føler det er velig god trening som økonomistudent.\n",
    "\n",
    "Jeg blir å bruke datacamp som en av mine kilder, samt følgende sider jeg fant på Google: \n",
    "Moffitt, C. (2016). Building a Financial Model with Pandas [Artikkel]. Hentet 21. Oktober 2021 fra\n",
    "https://pbpython.com/amortization-model.html\n",
    "Rhodes, B. (2014). Learning Pandas through payroll taxes and paystubs [Artikkel]. Hentet 21. Oktober 2021 fra https://rhodesmill.org/brandon/2014/pandas-payroll/ \n",
    "\n",
    "Jeg blir også å bruke «Interaktive notater i Jupyter», noen kapittel slik som «2 - Å bruke funksjoner», «4 - Lister, datastrukturer og Numpy¶» og «6 - Pandas, filtrering, logikk og betingelser».\n",
    "\n",
    "Jeg var usikker på hva et annuitetslån inngikk så jeg bruke Sparebanken sin side som hjelp.\n",
    "Sparebank1 (udatert). Annuitetslån, [Hjemmeside]. Hentet 21. Oktober 2021 fra https://www.sparebank1.no/nb/bank/privat/lan/boliglan/annuitetslan.html \n",
    "\n",
    "Min framgangsmåte blir delt opp i forskjellige trinn i den rekkefølgen jeg mener er best. Først må jeg importere forskjellige pakker som jeg blir å trenge, slik som panda og numphy. Disse er viktig å få med seg i starten. Tanken er at verdiene jeg får ut av kodingen blir å se ut som en tabell, slik som Excel for eksempel. \n",
    "Jeg blir å ha viktige variabler, slik som rente, lånebeløpet, nedbetalingstid osv. De blir jeg å gi tilfeldige tall slik at de får en verdi, disse variablene er viktige. Navnene på variablene blir å være på norsk, dette er fordi jeg synes det er lettere å se hvilken variabel som blir brukt i kodene.\n",
    "\n",
    "Deretter må jeg skrive en formel. Denne formelen blir å hjelpe meg med å finne ut av hvor mye kroner som skal betales hver måned. \n",
    "Formelen blir å inneholde: renteprosent, nedbetalingstid, hvor mange nedbetalinger i året og lånebeløpet. Det er vanligst å ha nedbetaling hver måned i flere år. \n",
    "\n",
    "Videre så må jeg lage en tidsplan, eller en tid funksjon kan det også hete. Det vil si at funksjonen har informasjon om hvor lenge lånet skal vare, hvilket år vi startet/slutter lånet og hvilken dato det blir trukket. Det er også viktig å skrive en formel som kan endres over tid. Det er fordi avdraget er det samme hver måned i et annuitetslån, men etterhvert som lånet nedbetales så stiger avdragsandelen, mens renteandelen minker. (Sparebanken1)\n",
    "\n",
    "Sist men ikke minst så må jeg å kalkulere balansen av egenandelen. I denne funksjonen så blir jeg å bruke kumulativ regning, likens som i R Studio. Her er det viktig å passe på at jeg får rette verdier, at det ikke overstiger/blir mindre enn egenandelen. Denne koden skal enkelt klare å estimere beløpet jeg har igjen å betale er. \n",
    "\n",
    "Oppsummeringen med prosjektskissen er at jeg har funnet viktige kilder som blir å være et nyttig hjelpemiddel videre. Jeg blir å bruke forskjellige formler for å få de tallene jeg trenger for å lage et nyttig skjema, som kommer til å være brukbart i framtiden. Oppgaven blir å få fram diverse data jeg har lært, samt vise fram nye kunnskaper.\n",
    "\n"
   ]
  }
 ],
 "metadata": {
  "kernelspec": {
   "display_name": "Python 3 (ipykernel)",
   "language": "python",
   "name": "python3"
  },
  "language_info": {
   "codemirror_mode": {
    "name": "ipython",
    "version": 3
   },
   "file_extension": ".py",
   "mimetype": "text/x-python",
   "name": "python",
   "nbconvert_exporter": "python",
   "pygments_lexer": "ipython3",
   "version": "3.9.5"
  }
 },
 "nbformat": 4,
 "nbformat_minor": 5
}
